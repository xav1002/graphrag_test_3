{
 "cells": [
  {
   "cell_type": "code",
   "execution_count": 12,
   "id": "367d6cc0-3972-4a85-a419-b664e92d0824",
   "metadata": {},
   "outputs": [
    {
     "name": "stdout",
     "output_type": "stream",
     "text": [
      "['s41598-022-08151-x.pdf', 's41598-024-75022-y.pdf']\n"
     ]
    }
   ],
   "source": [
    "from PyPDF2 import PdfReader\n",
    "from os import listdir\n",
    "from os.path import isfile, join\n",
    "\n",
    "only_files = [f for f in listdir('./input') if isfile(join('./input', f))]\n",
    "only_pdfs = [x for x in only_files if '.pdf' in x]\n",
    "\n",
    "print(only_pdfs)\n",
    "for pdf in only_pdfs:\n",
    "    reader = PdfReader('./input/'+pdf)\n",
    "    extracted_text = ''\n",
    "    for page in reader.pages:\n",
    "        extracted_text += page.extract_text()\n",
    "    \n",
    "    with open('./input/'+pdf.split('.')[0]+'.txt','w',encoding='utf-8') as f:\n",
    "        f.write(extracted_text)\n"
   ]
  }
 ],
 "metadata": {
  "kernelspec": {
   "display_name": "Python 3 (ipykernel)",
   "language": "python",
   "name": "python3"
  },
  "language_info": {
   "codemirror_mode": {
    "name": "ipython",
    "version": 3
   },
   "file_extension": ".py",
   "mimetype": "text/x-python",
   "name": "python",
   "nbconvert_exporter": "python",
   "pygments_lexer": "ipython3",
   "version": "3.12.6"
  }
 },
 "nbformat": 4,
 "nbformat_minor": 5
}
